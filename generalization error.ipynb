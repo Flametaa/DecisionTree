{
 "cells": [
  {
   "cell_type": "code",
   "execution_count": 7,
   "metadata": {},
   "outputs": [],
   "source": [
    "#parameters are :\n",
    "    # data is the input data in the format list[list[int]]\n",
    "    # dic is the dictionnary linking each attribute to an index\n",
    "    # tree is the resulting tree from BuildDecisionTree (heap Tree)\n",
    "    # alpha is float\n",
    "def error(data,dic,tree,alpha):\n",
    "    num_leaves = 0 # number of leaves in tree\n",
    "    num_errors=0   # number of wrong predictions for the data set\n",
    "    for i in range(len(tree)): # counting the leaves\n",
    "        if len(tree[i])==0:\n",
    "            continue\n",
    "        if  tree[i][0]!=-1:\n",
    "            num_leaves+=1\n",
    "            \n",
    "    testTree = [[] for k in range(len(tree))] # testTree is the tree containing the records at each node\n",
    "    \n",
    "    testTree[0] = data # the root has all the records \n",
    "    \n",
    "    for i in range(len(tree)):\n",
    "        if len(tree[i])==0:\n",
    "            continue\n",
    "        node = tree[i]\n",
    "        if (node[0]==-1): ## node is not leaf\n",
    "            condition = node[2].split(\" \") # node 2 is like \"A 0 1 2\"\n",
    "            At = condition[0] ## tested attribute\n",
    "            values = [int(x) for x in condition[1:]] \n",
    "            # if the value of the tested data of the corresponding attribute is in values then we go left else we go right\n",
    "            for prod in testTree[i]:\n",
    "                if prod[dic[At]] in values:\n",
    "                    testTree[i*2+1].append(prod)\n",
    "                else :\n",
    "                    testTree[i*2+2].append(prod)\n",
    "        \n",
    "        else : # if node is a leaf\n",
    "            \n",
    "            for prod in testTree[i]: \n",
    "                # for each record in the node of testTree we check if its class is equal to the predicted class\n",
    "                if prod[len(prod)-1]!=node[0]:\n",
    "                    num_errors+=1 # if class[prod] is not equal to the predicted class then we add 1 to error\n",
    "    genErr = num_errors+alpha*num_leaves\n",
    "    return  genErr "
   ]
  },
  {
   "cell_type": "code",
   "execution_count": null,
   "metadata": {},
   "outputs": [],
   "source": []
  }
 ],
 "metadata": {
  "kernelspec": {
   "display_name": "Python 3",
   "language": "python",
   "name": "python3"
  },
  "language_info": {
   "codemirror_mode": {
    "name": "ipython",
    "version": 3
   },
   "file_extension": ".py",
   "mimetype": "text/x-python",
   "name": "python",
   "nbconvert_exporter": "python",
   "pygments_lexer": "ipython3",
   "version": "3.7.0"
  }
 },
 "nbformat": 4,
 "nbformat_minor": 2
}
